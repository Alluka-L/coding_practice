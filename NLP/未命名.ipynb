{
 "cells": [
  {
   "cell_type": "code",
   "execution_count": 1,
   "metadata": {},
   "outputs": [
    {
     "name": "stdout",
     "output_type": "stream",
     "text": [
      "# categories: 18 ['Czech', 'German', 'Arabic', 'Japanese', 'Chinese', 'Vietnamese', 'Russian', 'French', 'Irish', 'English', 'Spanish', 'Greek', 'Italian', 'Portuguese', 'Scottish', 'Dutch', 'Korean', 'Polish']\n",
      "O'Neal\n",
      "59\n"
     ]
    }
   ],
   "source": [
    "from __future__ import unicode_literals, print_function, division\n",
    "from io import open\n",
    "import glob\n",
    "import unicodedata\n",
    "import string\n",
    "import os\n",
    "import torch.nn as nn\n",
    "import torch\n",
    "import random\n",
    "import time\n",
    "import math\n",
    "import matplotlib.pyplot as plt\n",
    "import matplotlib.ticker as ticker\n",
    "\n",
    "# Preparing the data\n",
    "all_letters = string.ascii_letters + \" .,;'-\"\n",
    "n_letters = len(all_letters) + 1  # plus EOS marker\n",
    "\n",
    "\n",
    "def find_files(path): return glob.glob(path)\n",
    "\n",
    "\n",
    "def unicode2ascii(s):\n",
    "    \"\"\"\n",
    "    Turn a Unicode string to plain ASCII.\n",
    "    \"\"\"\n",
    "    return ''.join(\n",
    "        c for c in unicodedata.normalize('NFD', s)\n",
    "        if unicodedata.category(c) != 'Mn'\n",
    "        and c in all_letters\n",
    "    )\n",
    "\n",
    "\n",
    "def read_lines(filename):\n",
    "    \"\"\"\n",
    "    Read a file and split into lines.\n",
    "    \"\"\"\n",
    "    file_line = open(filename, encoding='utf-8').read().strip().split('\\n')\n",
    "    return [unicode2ascii(line) for line in file_line]\n",
    "\n",
    "\n",
    "# Build the category_lines dictionary, a list of lines per category\n",
    "category_lines = {}\n",
    "all_categories = []\n",
    "for fn in find_files('../../PyTorch/data/data/names/*.txt'):\n",
    "    category = os.path.splitext(os.path.basename(fn))[0]\n",
    "    all_categories.append(category)\n",
    "    lines = read_lines(fn)\n",
    "    category_lines[category] = lines\n",
    "\n",
    "n_categories = len(all_categories)\n",
    "\n",
    "if n_categories == 0:\n",
    "    raise RuntimeError('Data not found. Make sure that you downloaded data '\n",
    "                       'from https://download.pytorch.org/tutorial/data.zip and extract it to '\n",
    "                       'the current directory.')\n",
    "\n",
    "print('# categories:', n_categories, all_categories)\n",
    "print(unicode2ascii(\"O'Néàl\"))\n",
    "print(n_letters)\n",
    "\n",
    "\n",
    "# Creating the Network\n",
    "class RNN(nn.Module):\n",
    "    def __init__(self, input_size, hidden_size, output_size):\n",
    "        super(RNN, self).__init__()\n",
    "        self.hidden_size = hidden_size\n",
    "\n",
    "        self.i2h = nn.Linear(n_categories + input_size + hidden_size, hidden_size)\n",
    "        self.i2o = nn.Linear(n_categories + input_size + hidden_size, output_size)\n",
    "        self.o2o = nn.Linear(hidden_size + output_size, output_size)\n",
    "        self.dropout = nn.Dropout(0.1)\n",
    "        self.softmax = nn.LogSoftmax(dim=1)\n",
    "\n",
    "    def forward(self, category_input, x, hidden):\n",
    "        input_combined = torch.cat((category_input, x, hidden), 1)\n",
    "        hidden = self.i2h(input_combined)\n",
    "        output = self.i2o(input_combined)\n",
    "        output_combined = torch.cat((hidden, output), 1)\n",
    "        output = self.o2o(output_combined)\n",
    "        output = self.dropout(output)\n",
    "        output = self.softmax(output)\n",
    "        return output, hidden\n",
    "\n",
    "    def init_hidden(self):\n",
    "        return torch.zeros(1, self.hidden_size)\n",
    "\n",
    "\n",
    "# Preparing for Training\n",
    "def ran_choice(l):\n",
    "    \"\"\"\n",
    "    Random item from a list.\n",
    "    \"\"\"\n",
    "    return l[random.randint(0, len(l) - 1)]\n",
    "\n",
    "\n",
    "def ran_input():\n",
    "    \"\"\"\n",
    "    Get a random category and random line from that category\n",
    "    \"\"\"\n",
    "    category_sample = ran_choice(all_categories)\n",
    "    line = ran_choice(category_lines[category])\n",
    "    return category_sample, line\n",
    "\n",
    "\n",
    "def category2tensor(category_input):\n",
    "    \"\"\"\n",
    "    One-hot vector for category\n",
    "    \"\"\"\n",
    "    i = all_categories.index(category_input)\n",
    "    tensor = torch.zeros(1, n_categories)\n",
    "    tensor[0][i] = 1\n",
    "    return tensor\n",
    "\n",
    "\n",
    "def input2tensor(line_input):\n",
    "    \"\"\"\n",
    "    One-hot matrix of first to last letters (not including EOS) for input.\n",
    "    \"\"\"\n",
    "    tensor = torch.zeros(len(line_input), 1, n_letters)\n",
    "    for i in range(len(line_input)):\n",
    "        letter = line_input[i]\n",
    "        tensor[i][0][all_letters.find(letter)] = 1\n",
    "    return tensor\n",
    "\n",
    "\n",
    "def target2tensor(line_input):\n",
    "    \"\"\"\n",
    "    LongTensor of second letter to end (EOS) for target.\n",
    "    \"\"\"\n",
    "    letter_indexes = [all_letters.find(line_input[i]) for i in range(1, len(line_input))]\n",
    "    letter_indexes.append(n_letters - 1)   # EOS\n",
    "    return torch.LongTensor(letter_indexes)\n",
    "\n",
    "\n",
    "def ran_sample():\n",
    "    \"\"\"\n",
    "    Make category, input, and target tensors from a random category, line pair\n",
    "    \"\"\"\n",
    "    category_input, line_input = ran_input()\n",
    "    category_tensor = category2tensor(category_input)\n",
    "    input_tensor = input2tensor(line_input)\n",
    "    target_tensor = target2tensor(line_input)\n",
    "    return category_tensor, input_tensor, target_tensor\n",
    "\n",
    "\n",
    "# Training the Network\n",
    "criterion = nn.NLLLoss()\n",
    "learning_rate = 0.0005\n",
    "rnn = RNN(n_letters, 128, n_letters)\n",
    "\n",
    "\n",
    "def train(category_tensor, input_tensor, target_tensor):\n",
    "    target_tensor.unsqueeze_(-1)\n",
    "    hidden = rnn.init_hidden()\n",
    "\n",
    "    rnn.zero_grad()\n",
    "\n",
    "    loss = 0\n",
    "\n",
    "    for i in range(input_tensor.size(0)):\n",
    "        output, hidden = rnn(category_tensor, input_tensor[i], hidden)\n",
    "        l = criterion(output, target_tensor[i])\n",
    "        loss += l\n",
    "\n",
    "    loss.backward()\n",
    "\n",
    "    for p in rnn.parameters():\n",
    "        p.data.add_(-learning_rate, p.grad.data)\n",
    "\n",
    "    return output, loss.item() / input_tensor.size(0)\n",
    "\n",
    "\n",
    "def timesince(since):\n",
    "    now = time.time()\n",
    "    s = now - since\n",
    "    m = math.floor(s / 60)\n",
    "    s -= m * 60\n",
    "    return '%dm %ds' % (m, s)"
   ]
  },
  {
   "cell_type": "code",
   "execution_count": 245,
   "metadata": {},
   "outputs": [
    {
     "name": "stdout",
     "output_type": "stream",
     "text": [
      "0m 16s (5000 5%) 1.2749\n",
      "0m 32s (10000 10%) 0.7785\n",
      "0m 50s (15000 15%) 0.6279\n",
      "1m 6s (20000 20%) 0.5893\n",
      "1m 23s (25000 25%) 0.5260\n",
      "1m 39s (30000 30%) 0.5238\n",
      "1m 56s (35000 35%) 1.4610\n",
      "2m 12s (40000 40%) 0.5210\n",
      "2m 28s (45000 45%) 0.2645\n",
      "2m 45s (50000 50%) 0.9852\n",
      "3m 1s (55000 55%) 0.5779\n",
      "3m 18s (60000 60%) 1.3027\n",
      "3m 34s (65000 65%) 0.7840\n",
      "3m 51s (70000 70%) 0.5558\n",
      "4m 7s (75000 75%) 1.0563\n",
      "4m 23s (80000 80%) 0.6924\n",
      "4m 40s (85000 85%) 0.1215\n",
      "4m 56s (90000 90%) 0.4168\n",
      "5m 13s (95000 95%) 0.2729\n",
      "5m 29s (100000 100%) 0.6456\n"
     ]
    }
   ],
   "source": [
    "n_iters = 100000\n",
    "print_every = 5000\n",
    "plot_every = 500\n",
    "all_losses = []\n",
    "total_loss = 0\n",
    "\n",
    "start = time.time()\n",
    "\n",
    "for iter in range(1, n_iters + 1):\n",
    "    output, loss = train(*ran_sample())\n",
    "    total_loss += loss\n",
    "\n",
    "    if iter % print_every == 0:\n",
    "        print('%s (%d %d%%) %.4f' % (timesince(start), iter, iter / n_iters * 100, loss))\n",
    "\n",
    "    if iter % plot_every == 0:\n",
    "        all_losses.append(total_loss / plot_every)\n",
    "        total_loss = 0"
   ]
  },
  {
   "cell_type": "code",
   "execution_count": 246,
   "metadata": {},
   "outputs": [
    {
     "data": {
      "image/png": "[encoded data removed]",
      "text/plain": [
       "<Figure size 432x288 with 1 Axes>"
      ]
     },
     "metadata": {
      "needs_background": "light"
     },
     "output_type": "display_data"
    }
   ],
   "source": [
    "plt.figure()\n",
    "plt.plot(all_losses)\n",
    "\n",
    "# Sampling the Network\n",
    "max_length = 20"
   ]
  },
  {
   "cell_type": "code",
   "execution_count": 4,
   "metadata": {},
   "outputs": [],
   "source": [
    "def sample(category_sample, start_letter='A'):\n",
    "    \"\"\"\n",
    "    Sample from a category and starting letter\n",
    "    \"\"\"\n",
    "    with torch.no_grad():\n",
    "        category_tensor = category2tensor(category_sample)\n",
    "        input_tensor = input2tensor(start_letter)\n",
    "        hidden = rnn.init_hidden()\n",
    "\n",
    "        output_name = start_letter\n",
    "\n",
    "        for i in range(max_length):\n",
    "            output, hidden = rnn(category_tensor, input_tensor[0], hidden)\n",
    "            topv, topi = output.topk(1)\n",
    "            topi = topi[0][0]\n",
    "            if topi == n_letters - 1:\n",
    "                break\n",
    "            else:\n",
    "                letter = all_letters[topi]\n",
    "                output_name += letter\n",
    "            input_tensor = input2tensor(letter)\n",
    "\n",
    "        return output_name\n",
    "\n",
    "\n",
    "def samples(category_sample, start_letters='ABC'):\n",
    "    \"\"\"\n",
    "    Get multiple samples from one category and multiple starting letters\n",
    "    \"\"\"\n",
    "    for start_letter in start_letters:\n",
    "        print(sample(category_sample, start_letter))"
   ]
  },
  {
   "cell_type": "code",
   "execution_count": 263,
   "metadata": {},
   "outputs": [
    {
     "name": "stdout",
     "output_type": "stream",
     "text": [
      "Rutkowsei\n",
      "Uarek\n",
      "Sokol\n"
     ]
    }
   ],
   "source": [
    "samples('Russian', 'RUS')"
   ]
  },
  {
   "cell_type": "code",
   "execution_count": 257,
   "metadata": {},
   "outputs": [
    {
     "name": "stdout",
     "output_type": "stream",
     "text": [
      "Lawniczak\n",
      "Lawniczak\n",
      "Lasnieka\n"
     ]
    }
   ],
   "source": [
    "samples('Chinese', 'LLL')"
   ]
  },
  {
   "cell_type": "code",
   "execution_count": 308,
   "metadata": {},
   "outputs": [
    {
     "name": "stdout",
     "output_type": "stream",
     "text": [
      "Gorka\n",
      "Earek\n",
      "RudaW\n"
     ]
    }
   ],
   "source": [
    "samples('German', 'GER')"
   ]
  },
  {
   "cell_type": "code",
   "execution_count": 241,
   "metadata": {},
   "outputs": [
    {
     "data": {
      "text/plain": [
       "['Czech',\n",
       " 'German',\n",
       " 'Arabic',\n",
       " 'Japanese',\n",
       " 'Chinese',\n",
       " 'Vietnamese',\n",
       " 'Russian',\n",
       " 'French',\n",
       " 'Irish',\n",
       " 'English',\n",
       " 'Spanish',\n",
       " 'Greek',\n",
       " 'Italian',\n",
       " 'Portuguese',\n",
       " 'Scottish',\n",
       " 'Dutch',\n",
       " 'Korean',\n",
       " 'Polish']"
      ]
     },
     "execution_count": 241,
     "metadata": {},
     "output_type": "execute_result"
    }
   ],
   "source": [
    "all_categories"
   ]
  },
  {
   "cell_type": "code",
   "execution_count": 244,
   "metadata": {},
   "outputs": [
    {
     "data": {
      "text/plain": [
       "tensor([[0., 0., 0., 0., 1., 0., 0., 0., 0., 0., 0., 0., 0., 0., 0., 0., 0., 0.]])"
      ]
     },
     "execution_count": 244,
     "metadata": {},
     "output_type": "execute_result"
    }
   ],
   "source": [
    "category2tensor('Chinese')"
   ]
  }
 ],
 "metadata": {
  "kernelspec": {
   "display_name": "Python 3",
   "language": "python",
   "name": "python3"
  },
  "language_info": {
   "codemirror_mode": {
    "name": "ipython",
    "version": 3
   },
   "file_extension": ".py",
   "mimetype": "text/x-python",
   "name": "python",
   "nbconvert_exporter": "python",
   "pygments_lexer": "ipython3",
   "version": "3.7.5"
  }
 },
 "nbformat": 4,
 "nbformat_minor": 4
}
